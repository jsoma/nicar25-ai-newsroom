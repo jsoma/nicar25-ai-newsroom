{
 "cells": [
  {
   "cell_type": "markdown",
   "id": "4214c48f-6f26-4073-95c5-daa2d5e5b00f",
   "metadata": {},
   "source": [
    "We are going to [build something with Cursor](https://www.cursor.com/)!\n",
    "\n",
    "## Pitch and vote, or take one of the following:\n",
    "\n",
    "- A web-based tool that you drag and drop PDFs into, and the contents of each PDF becomes a row in a spreadsheet. You click an export button and download the CSV. It would be nice if it did OCR on the text, too, wouldn't it?\n",
    "- A Gradio app where you provide the YouTube URL to a community board meeting, and the things you're interested in reporting on. You click a button and on the right-hand side you get a summary of the meeting, along with aspects you might find useful.\n",
    "- Gradio app where you drop in PDFs and it answers a single question across all of the PDFs using document-question-answering instead of an LLM\n",
    "- A web app where you paste in a story you're working on and get thoughts on the side about how you might edit it. It highlights the edits and provides the feedback in a nice comment-box-like setup.\n",
    "    - A Google docs app where you get feedback on your writing\n",
    "- A tool to help process your photos, sorting them into buckets as to whether they're photos of food, cats, or family members.\n",
    "- A chatbot that takes a folder of reporting notes, video and audio and answers questions from them\n",
    "- A Google Sheets app where you paste content into a spreadsheet and it automatically fills in a second spreadsheet (???)\n",
    "- GitHub thing. Get structured data, trigger if something is true.\n",
    "- A data visualization. idk.\n",
    "- Semantic search across documents. Given a bunch of RFK Jr. interviews on Joe Rogan, find all of the times he mentions vaccines.\n",
    "- A template for a news quiz, you drop in a list of questions and answers and images, and it turns them into a quiz. It has a preview and you can click 'download HTML' and it gives you the HTML that you can put into your CMS.\n",
    "    - It provides a template\n",
    "    - Keep the images base64-encoded\n",
    "\n",
    "## Give it what you know how to do\n",
    "\n",
    "What questions do we have as this is happening? what don't we know? how do we get this knowledge?\n",
    "\n",
    "Ask questions. sonnet-3.7 is kinda wild compared to sonnet-3.5."
   ]
  },
  {
   "cell_type": "code",
   "execution_count": null,
   "id": "cf99ffde-ce73-49e8-855e-b84f965dc4be",
   "metadata": {},
   "outputs": [],
   "source": []
  }
 ],
 "metadata": {
  "kernelspec": {
   "display_name": "Python 3 (ipykernel)",
   "language": "python",
   "name": "python3"
  },
  "language_info": {
   "codemirror_mode": {
    "name": "ipython",
    "version": 3
   },
   "file_extension": ".py",
   "mimetype": "text/x-python",
   "name": "python",
   "nbconvert_exporter": "python",
   "pygments_lexer": "ipython3",
   "version": "3.10.13"
  }
 },
 "nbformat": 4,
 "nbformat_minor": 5
}
