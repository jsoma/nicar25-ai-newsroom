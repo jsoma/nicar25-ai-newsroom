{
 "cells": [
  {
   "cell_type": "markdown",
   "id": "c0628da0-38e2-473b-832f-4dd346da77f2",
   "metadata": {},
   "source": [
    "# Embeddings and document Q&A"
   ]
  },
  {
   "cell_type": "code",
   "execution_count": null,
   "id": "34df4dd4-af78-4570-97e8-16f28e0f747e",
   "metadata": {},
   "outputs": [
    {
     "name": "stdout",
     "output_type": "stream",
     "text": [
      "\n",
      "\u001b[1m[\u001b[0m\u001b[34;49mnotice\u001b[0m\u001b[1;39;49m]\u001b[0m\u001b[39;49m A new release of pip is available: \u001b[0m\u001b[31;49m23.0.1\u001b[0m\u001b[39;49m -> \u001b[0m\u001b[32;49m25.0.1\u001b[0m\n",
      "\u001b[1m[\u001b[0m\u001b[34;49mnotice\u001b[0m\u001b[1;39;49m]\u001b[0m\u001b[39;49m To update, run: \u001b[0m\u001b[32;49mpip install --upgrade pip\u001b[0m\n"
     ]
    }
   ],
   "source": [
    "%pip install --quiet -U llama-index-vector-stores-chroma llama-index sentence-transformers sentencepiece InstructorEmbedding pydantic llama-index-embeddings-huggingface llama-index-embeddings-instructor"
   ]
  },
  {
   "cell_type": "markdown",
   "id": "ea42abd2-fe20-4a04-bbf0-ce69c5e1caa1",
   "metadata": {},
   "source": [
    "# Embeddings\n",
    "\n",
    "Computers only know how to talk in numbers, so embeddings **convert text to numbers**. I've already written [a lot of words about embeddings](https://investigate.ai/text-analysis/word-embeddings/), and that will hopefully be helpful to understanding them.\n",
    "\n",
    "For example, we can take a look at seeing what \"cat\" turns into."
   ]
  },
  {
   "cell_type": "code",
   "execution_count": 2,
   "id": "2b4d133d-ca2f-4f1c-8d55-afe4cd02708b",
   "metadata": {},
   "outputs": [
    {
     "data": {
      "application/vnd.jupyter.widget-view+json": {
       "model_id": "6cec4cc6e9504689947bedccd29794bd",
       "version_major": 2,
       "version_minor": 0
      },
      "text/plain": [
       "README.md:   0%|          | 0.00/10.5k [00:00<?, ?B/s]"
      ]
     },
     "metadata": {},
     "output_type": "display_data"
    },
    {
     "data": {
      "application/vnd.jupyter.widget-view+json": {
       "model_id": "4eb517345b2045cb88473d08db9f67bf",
       "version_major": 2,
       "version_minor": 0
      },
      "text/plain": [
       "model.safetensors:   0%|          | 0.00/90.9M [00:00<?, ?B/s]"
      ]
     },
     "metadata": {},
     "output_type": "display_data"
    },
    {
     "name": "stdout",
     "output_type": "stream",
     "text": [
      "[ 0.03733034  0.05116179 -0.00030603  0.0602099  -0.11749439 -0.01423008\n",
      "  0.10577617  0.02678619  0.02633773 -0.02570083 -0.02349044 -0.05955525\n",
      " -0.03021392  0.01632024 -0.02907015 -0.02168977 -0.06624995  0.00185666\n",
      " -0.02400625 -0.02846258 -0.04663163  0.04970476  0.00308295  0.00176269\n",
      " -0.06775755]\n"
     ]
    }
   ],
   "source": [
    "from sentence_transformers import SentenceTransformer\n",
    "sentences = [\"cat\"]\n",
    "\n",
    "model = SentenceTransformer('sentence-transformers/all-MiniLM-L6-v2')\n",
    "embeddings = model.encode(sentences)\n",
    "print(embeddings[0][:25])"
   ]
  },
  {
   "cell_type": "markdown",
   "id": "9afa9246-6561-4daa-b69c-982a61acc0cf",
   "metadata": {},
   "source": [
    "Generating embeddings also works for **entire sentences** (or paragraphs, or books, or anything!)."
   ]
  },
  {
   "cell_type": "code",
   "execution_count": 3,
   "id": "cb4db85c-5b1d-4afa-9367-554d22f56151",
   "metadata": {},
   "outputs": [
    {
     "name": "stdout",
     "output_type": "stream",
     "text": [
      "[ 0.0676569   0.06349587  0.04871311  0.07930495  0.03744802  0.00265279\n",
      "  0.03937487 -0.00709845  0.05936147  0.03153699  0.06009806 -0.05290519\n",
      "  0.04060678 -0.02593081  0.02984278  0.00112692  0.07351492 -0.05038196\n",
      " -0.12238662  0.02370284  0.02972653  0.04247687  0.02563379  0.0019952\n",
      " -0.05691909 -0.02715985 -0.03290356  0.06602491  0.11900706 -0.04587916\n",
      " -0.07262147 -0.032584    0.05234136  0.04505525  0.00825304  0.03670236\n",
      " -0.01394151  0.06539194 -0.02642725  0.00020639 -0.01366436 -0.03628098\n",
      " -0.01950433 -0.02897385  0.03942706 -0.08840908  0.00262427  0.01367138\n",
      "  0.04830632 -0.03115654]\n"
     ]
    }
   ],
   "source": [
    "from sentence_transformers import SentenceTransformer\n",
    "sentences = [\"This is an example sentence\"]\n",
    "\n",
    "model = SentenceTransformer('sentence-transformers/all-MiniLM-L6-v2')\n",
    "embeddings = model.encode(sentences)\n",
    "print(embeddings[0][:50])"
   ]
  },
  {
   "cell_type": "markdown",
   "id": "8a281909-e770-40f4-b2d4-8b1b89c46f72",
   "metadata": {},
   "source": [
    "## Document similarity\n",
    "\n",
    "Because everything is \"just numbers,\" we can use those numbers to compare sentences. We're going to use a dataset below because we'll be able to see how different embeddings get us to different results."
   ]
  },
  {
   "cell_type": "code",
   "execution_count": 4,
   "id": "b6497da9-ee55-4999-9745-444eaf71e0e2",
   "metadata": {},
   "outputs": [],
   "source": [
    "import pandas as pd\n",
    "\n",
    "sentences = [\n",
    "    \"Molly ate a fish\",\n",
    "    \"Jen consumed a carp\",\n",
    "    \"I would like to sell you a house\",\n",
    "    \"Я пытаюсь купить дачу\",\n",
    "    \"J'aimerais vous louer un grand appartement\",\n",
    "    \"This is a wonderful investment opportunity\",\n",
    "    \"write some more sentences 1\",\n",
    "    \"write some more sentences 2\",\n",
    "    \"write some more sentences 3\",\n",
    "    \"write some more sentences 4\",\n",
    "]"
   ]
  },
  {
   "cell_type": "code",
   "execution_count": 5,
   "id": "d966daf7-d363-4c9c-ad40-c2897571ee46",
   "metadata": {},
   "outputs": [],
   "source": [
    "model = SentenceTransformer('sentence-transformers/all-MiniLM-L6-v2')\n",
    "embeddings = model.encode(sentences)"
   ]
  },
  {
   "cell_type": "code",
   "execution_count": 6,
   "id": "56cbe986-1a9c-41f1-8a89-d8df4ab77980",
   "metadata": {},
   "outputs": [
    {
     "data": {
      "text/html": [
       "<style type=\"text/css\">\n",
       "#T_36446_row0_col0, #T_36446_row1_col1, #T_36446_row2_col2, #T_36446_row3_col3, #T_36446_row4_col4, #T_36446_row5_col5, #T_36446_row6_col6, #T_36446_row7_col7, #T_36446_row8_col8, #T_36446_row9_col9 {\n",
       "  background-color: #023858;\n",
       "  color: #f1f1f1;\n",
       "}\n",
       "#T_36446_row0_col1, #T_36446_row1_col0 {\n",
       "  background-color: #589ec8;\n",
       "  color: #f1f1f1;\n",
       "}\n",
       "#T_36446_row0_col2, #T_36446_row2_col0 {\n",
       "  background-color: #f2ecf5;\n",
       "  color: #000000;\n",
       "}\n",
       "#T_36446_row0_col3, #T_36446_row3_col0, #T_36446_row5_col8, #T_36446_row8_col5 {\n",
       "  background-color: #e6e2ef;\n",
       "  color: #000000;\n",
       "}\n",
       "#T_36446_row0_col4, #T_36446_row4_col0 {\n",
       "  background-color: #f3edf5;\n",
       "  color: #000000;\n",
       "}\n",
       "#T_36446_row0_col5, #T_36446_row5_col0 {\n",
       "  background-color: #fff7fb;\n",
       "  color: #000000;\n",
       "}\n",
       "#T_36446_row0_col6, #T_36446_row6_col0 {\n",
       "  background-color: #dbdaeb;\n",
       "  color: #000000;\n",
       "}\n",
       "#T_36446_row0_col7, #T_36446_row1_col8, #T_36446_row7_col0, #T_36446_row8_col1 {\n",
       "  background-color: #dedcec;\n",
       "  color: #000000;\n",
       "}\n",
       "#T_36446_row0_col8, #T_36446_row8_col0 {\n",
       "  background-color: #d8d7e9;\n",
       "  color: #000000;\n",
       "}\n",
       "#T_36446_row0_col9, #T_36446_row1_col9, #T_36446_row9_col0, #T_36446_row9_col1 {\n",
       "  background-color: #dddbec;\n",
       "  color: #000000;\n",
       "}\n",
       "#T_36446_row1_col2, #T_36446_row2_col1 {\n",
       "  background-color: #f0eaf4;\n",
       "  color: #000000;\n",
       "}\n",
       "#T_36446_row1_col3, #T_36446_row3_col1 {\n",
       "  background-color: #f1ebf4;\n",
       "  color: #000000;\n",
       "}\n",
       "#T_36446_row1_col4, #T_36446_row4_col1 {\n",
       "  background-color: #f8f1f8;\n",
       "  color: #000000;\n",
       "}\n",
       "#T_36446_row1_col5, #T_36446_row5_col1 {\n",
       "  background-color: #f7f0f7;\n",
       "  color: #000000;\n",
       "}\n",
       "#T_36446_row1_col6, #T_36446_row6_col1 {\n",
       "  background-color: #e2dfee;\n",
       "  color: #000000;\n",
       "}\n",
       "#T_36446_row1_col7, #T_36446_row7_col1 {\n",
       "  background-color: #dfddec;\n",
       "  color: #000000;\n",
       "}\n",
       "#T_36446_row2_col3, #T_36446_row2_col8, #T_36446_row3_col2, #T_36446_row8_col2 {\n",
       "  background-color: #dad9ea;\n",
       "  color: #000000;\n",
       "}\n",
       "#T_36446_row2_col4, #T_36446_row4_col2, #T_36446_row4_col7, #T_36446_row7_col4 {\n",
       "  background-color: #e9e5f1;\n",
       "  color: #000000;\n",
       "}\n",
       "#T_36446_row2_col5, #T_36446_row5_col2 {\n",
       "  background-color: #93b5d6;\n",
       "  color: #000000;\n",
       "}\n",
       "#T_36446_row2_col6, #T_36446_row2_col7, #T_36446_row6_col2, #T_36446_row7_col2 {\n",
       "  background-color: #d6d6e9;\n",
       "  color: #000000;\n",
       "}\n",
       "#T_36446_row2_col9, #T_36446_row9_col2 {\n",
       "  background-color: #d7d6e9;\n",
       "  color: #000000;\n",
       "}\n",
       "#T_36446_row3_col4, #T_36446_row4_col3 {\n",
       "  background-color: #d9d8ea;\n",
       "  color: #000000;\n",
       "}\n",
       "#T_36446_row3_col5, #T_36446_row5_col3 {\n",
       "  background-color: #ede7f2;\n",
       "  color: #000000;\n",
       "}\n",
       "#T_36446_row3_col6, #T_36446_row6_col3 {\n",
       "  background-color: #c4cbe3;\n",
       "  color: #000000;\n",
       "}\n",
       "#T_36446_row3_col7, #T_36446_row7_col3 {\n",
       "  background-color: #c1cae2;\n",
       "  color: #000000;\n",
       "}\n",
       "#T_36446_row3_col8, #T_36446_row8_col3 {\n",
       "  background-color: #c9cee4;\n",
       "  color: #000000;\n",
       "}\n",
       "#T_36446_row3_col9, #T_36446_row9_col3 {\n",
       "  background-color: #c0c9e2;\n",
       "  color: #000000;\n",
       "}\n",
       "#T_36446_row4_col5, #T_36446_row5_col4 {\n",
       "  background-color: #f1ebf5;\n",
       "  color: #000000;\n",
       "}\n",
       "#T_36446_row4_col6, #T_36446_row6_col4 {\n",
       "  background-color: #ece7f2;\n",
       "  color: #000000;\n",
       "}\n",
       "#T_36446_row4_col8, #T_36446_row8_col4 {\n",
       "  background-color: #ede8f3;\n",
       "  color: #000000;\n",
       "}\n",
       "#T_36446_row4_col9, #T_36446_row9_col4 {\n",
       "  background-color: #e8e4f0;\n",
       "  color: #000000;\n",
       "}\n",
       "#T_36446_row5_col6, #T_36446_row6_col5 {\n",
       "  background-color: #e5e1ef;\n",
       "  color: #000000;\n",
       "}\n",
       "#T_36446_row5_col7, #T_36446_row7_col5 {\n",
       "  background-color: #e3e0ee;\n",
       "  color: #000000;\n",
       "}\n",
       "#T_36446_row5_col9, #T_36446_row9_col5 {\n",
       "  background-color: #e0deed;\n",
       "  color: #000000;\n",
       "}\n",
       "#T_36446_row6_col7, #T_36446_row7_col6 {\n",
       "  background-color: #03476f;\n",
       "  color: #f1f1f1;\n",
       "}\n",
       "#T_36446_row6_col8, #T_36446_row7_col8, #T_36446_row8_col6, #T_36446_row8_col7, #T_36446_row8_col9, #T_36446_row9_col8 {\n",
       "  background-color: #034b76;\n",
       "  color: #f1f1f1;\n",
       "}\n",
       "#T_36446_row6_col9, #T_36446_row9_col6 {\n",
       "  background-color: #034d79;\n",
       "  color: #f1f1f1;\n",
       "}\n",
       "#T_36446_row7_col9, #T_36446_row9_col7 {\n",
       "  background-color: #034c78;\n",
       "  color: #f1f1f1;\n",
       "}\n",
       "</style>\n",
       "<table id=\"T_36446\">\n",
       "  <thead>\n",
       "    <tr>\n",
       "      <th class=\"blank level0\" >&nbsp;</th>\n",
       "      <th id=\"T_36446_level0_col0\" class=\"col_heading level0 col0\" >Molly ate a fish</th>\n",
       "      <th id=\"T_36446_level0_col1\" class=\"col_heading level0 col1\" >Jen consumed a carp</th>\n",
       "      <th id=\"T_36446_level0_col2\" class=\"col_heading level0 col2\" >I would like to sell you a house</th>\n",
       "      <th id=\"T_36446_level0_col3\" class=\"col_heading level0 col3\" >Я пытаюсь купить дачу</th>\n",
       "      <th id=\"T_36446_level0_col4\" class=\"col_heading level0 col4\" >J'aimerais vous louer un grand appartement</th>\n",
       "      <th id=\"T_36446_level0_col5\" class=\"col_heading level0 col5\" >This is a wonderful investment opportunity</th>\n",
       "      <th id=\"T_36446_level0_col6\" class=\"col_heading level0 col6\" >write some more sentences 1</th>\n",
       "      <th id=\"T_36446_level0_col7\" class=\"col_heading level0 col7\" >write some more sentences 2</th>\n",
       "      <th id=\"T_36446_level0_col8\" class=\"col_heading level0 col8\" >write some more sentences 3</th>\n",
       "      <th id=\"T_36446_level0_col9\" class=\"col_heading level0 col9\" >write some more sentences 4</th>\n",
       "    </tr>\n",
       "  </thead>\n",
       "  <tbody>\n",
       "    <tr>\n",
       "      <th id=\"T_36446_level0_row0\" class=\"row_heading level0 row0\" >Molly ate a fish</th>\n",
       "      <td id=\"T_36446_row0_col0\" class=\"data row0 col0\" >1.000000</td>\n",
       "      <td id=\"T_36446_row0_col1\" class=\"data row0 col1\" >0.526053</td>\n",
       "      <td id=\"T_36446_row0_col2\" class=\"data row0 col2\" >0.025476</td>\n",
       "      <td id=\"T_36446_row0_col3\" class=\"data row0 col3\" >0.098335</td>\n",
       "      <td id=\"T_36446_row0_col4\" class=\"data row0 col4\" >0.020435</td>\n",
       "      <td id=\"T_36446_row0_col5\" class=\"data row0 col5\" >-0.065292</td>\n",
       "      <td id=\"T_36446_row0_col6\" class=\"data row0 col6\" >0.149934</td>\n",
       "      <td id=\"T_36446_row0_col7\" class=\"data row0 col7\" >0.137241</td>\n",
       "      <td id=\"T_36446_row0_col8\" class=\"data row0 col8\" >0.165194</td>\n",
       "      <td id=\"T_36446_row0_col9\" class=\"data row0 col9\" >0.140539</td>\n",
       "    </tr>\n",
       "    <tr>\n",
       "      <th id=\"T_36446_level0_row1\" class=\"row_heading level0 row1\" >Jen consumed a carp</th>\n",
       "      <td id=\"T_36446_row1_col0\" class=\"data row1 col0\" >0.526053</td>\n",
       "      <td id=\"T_36446_row1_col1\" class=\"data row1 col1\" >1.000000</td>\n",
       "      <td id=\"T_36446_row1_col2\" class=\"data row1 col2\" >0.044178</td>\n",
       "      <td id=\"T_36446_row1_col3\" class=\"data row1 col3\" >0.035044</td>\n",
       "      <td id=\"T_36446_row1_col4\" class=\"data row1 col4\" >-0.018194</td>\n",
       "      <td id=\"T_36446_row1_col5\" class=\"data row1 col5\" >-0.004439</td>\n",
       "      <td id=\"T_36446_row1_col6\" class=\"data row1 col6\" >0.117251</td>\n",
       "      <td id=\"T_36446_row1_col7\" class=\"data row1 col7\" >0.131830</td>\n",
       "      <td id=\"T_36446_row1_col8\" class=\"data row1 col8\" >0.134930</td>\n",
       "      <td id=\"T_36446_row1_col9\" class=\"data row1 col9\" >0.139572</td>\n",
       "    </tr>\n",
       "    <tr>\n",
       "      <th id=\"T_36446_level0_row2\" class=\"row_heading level0 row2\" >I would like to sell you a house</th>\n",
       "      <td id=\"T_36446_row2_col0\" class=\"data row2 col0\" >0.025476</td>\n",
       "      <td id=\"T_36446_row2_col1\" class=\"data row2 col1\" >0.044178</td>\n",
       "      <td id=\"T_36446_row2_col2\" class=\"data row2 col2\" >1.000000</td>\n",
       "      <td id=\"T_36446_row2_col3\" class=\"data row2 col3\" >0.154773</td>\n",
       "      <td id=\"T_36446_row2_col4\" class=\"data row2 col4\" >0.083555</td>\n",
       "      <td id=\"T_36446_row2_col5\" class=\"data row2 col5\" >0.386736</td>\n",
       "      <td id=\"T_36446_row2_col6\" class=\"data row2 col6\" >0.175895</td>\n",
       "      <td id=\"T_36446_row2_col7\" class=\"data row2 col7\" >0.174119</td>\n",
       "      <td id=\"T_36446_row2_col8\" class=\"data row2 col8\" >0.151783</td>\n",
       "      <td id=\"T_36446_row2_col9\" class=\"data row2 col9\" >0.169388</td>\n",
       "    </tr>\n",
       "    <tr>\n",
       "      <th id=\"T_36446_level0_row3\" class=\"row_heading level0 row3\" >Я пытаюсь купить дачу</th>\n",
       "      <td id=\"T_36446_row3_col0\" class=\"data row3 col0\" >0.098335</td>\n",
       "      <td id=\"T_36446_row3_col1\" class=\"data row3 col1\" >0.035044</td>\n",
       "      <td id=\"T_36446_row3_col2\" class=\"data row3 col2\" >0.154773</td>\n",
       "      <td id=\"T_36446_row3_col3\" class=\"data row3 col3\" >1.000000</td>\n",
       "      <td id=\"T_36446_row3_col4\" class=\"data row3 col4\" >0.159518</td>\n",
       "      <td id=\"T_36446_row3_col5\" class=\"data row3 col5\" >0.064379</td>\n",
       "      <td id=\"T_36446_row3_col6\" class=\"data row3 col6\" >0.242579</td>\n",
       "      <td id=\"T_36446_row3_col7\" class=\"data row3 col7\" >0.247275</td>\n",
       "      <td id=\"T_36446_row3_col8\" class=\"data row3 col8\" >0.225213</td>\n",
       "      <td id=\"T_36446_row3_col9\" class=\"data row3 col9\" >0.251053</td>\n",
       "    </tr>\n",
       "    <tr>\n",
       "      <th id=\"T_36446_level0_row4\" class=\"row_heading level0 row4\" >J'aimerais vous louer un grand appartement</th>\n",
       "      <td id=\"T_36446_row4_col0\" class=\"data row4 col0\" >0.020435</td>\n",
       "      <td id=\"T_36446_row4_col1\" class=\"data row4 col1\" >-0.018194</td>\n",
       "      <td id=\"T_36446_row4_col2\" class=\"data row4 col2\" >0.083555</td>\n",
       "      <td id=\"T_36446_row4_col3\" class=\"data row4 col3\" >0.159518</td>\n",
       "      <td id=\"T_36446_row4_col4\" class=\"data row4 col4\" >1.000000</td>\n",
       "      <td id=\"T_36446_row4_col5\" class=\"data row4 col5\" >0.032253</td>\n",
       "      <td id=\"T_36446_row4_col6\" class=\"data row4 col6\" >0.068274</td>\n",
       "      <td id=\"T_36446_row4_col7\" class=\"data row4 col7\" >0.080694</td>\n",
       "      <td id=\"T_36446_row4_col8\" class=\"data row4 col8\" >0.063166</td>\n",
       "      <td id=\"T_36446_row4_col9\" class=\"data row4 col9\" >0.086606</td>\n",
       "    </tr>\n",
       "    <tr>\n",
       "      <th id=\"T_36446_level0_row5\" class=\"row_heading level0 row5\" >This is a wonderful investment opportunity</th>\n",
       "      <td id=\"T_36446_row5_col0\" class=\"data row5 col0\" >-0.065292</td>\n",
       "      <td id=\"T_36446_row5_col1\" class=\"data row5 col1\" >-0.004439</td>\n",
       "      <td id=\"T_36446_row5_col2\" class=\"data row5 col2\" >0.386736</td>\n",
       "      <td id=\"T_36446_row5_col3\" class=\"data row5 col3\" >0.064379</td>\n",
       "      <td id=\"T_36446_row5_col4\" class=\"data row5 col4\" >0.032253</td>\n",
       "      <td id=\"T_36446_row5_col5\" class=\"data row5 col5\" >1.000000</td>\n",
       "      <td id=\"T_36446_row5_col6\" class=\"data row5 col6\" >0.101699</td>\n",
       "      <td id=\"T_36446_row5_col7\" class=\"data row5 col7\" >0.111003</td>\n",
       "      <td id=\"T_36446_row5_col8\" class=\"data row5 col8\" >0.100311</td>\n",
       "      <td id=\"T_36446_row5_col9\" class=\"data row5 col9\" >0.123455</td>\n",
       "    </tr>\n",
       "    <tr>\n",
       "      <th id=\"T_36446_level0_row6\" class=\"row_heading level0 row6\" >write some more sentences 1</th>\n",
       "      <td id=\"T_36446_row6_col0\" class=\"data row6 col0\" >0.149934</td>\n",
       "      <td id=\"T_36446_row6_col1\" class=\"data row6 col1\" >0.117251</td>\n",
       "      <td id=\"T_36446_row6_col2\" class=\"data row6 col2\" >0.175895</td>\n",
       "      <td id=\"T_36446_row6_col3\" class=\"data row6 col3\" >0.242579</td>\n",
       "      <td id=\"T_36446_row6_col4\" class=\"data row6 col4\" >0.068274</td>\n",
       "      <td id=\"T_36446_row6_col5\" class=\"data row6 col5\" >0.101699</td>\n",
       "      <td id=\"T_36446_row6_col6\" class=\"data row6 col6\" >1.000000</td>\n",
       "      <td id=\"T_36446_row6_col7\" class=\"data row6 col7\" >0.940995</td>\n",
       "      <td id=\"T_36446_row6_col8\" class=\"data row6 col8\" >0.922456</td>\n",
       "      <td id=\"T_36446_row6_col9\" class=\"data row6 col9\" >0.914263</td>\n",
       "    </tr>\n",
       "    <tr>\n",
       "      <th id=\"T_36446_level0_row7\" class=\"row_heading level0 row7\" >write some more sentences 2</th>\n",
       "      <td id=\"T_36446_row7_col0\" class=\"data row7 col0\" >0.137241</td>\n",
       "      <td id=\"T_36446_row7_col1\" class=\"data row7 col1\" >0.131830</td>\n",
       "      <td id=\"T_36446_row7_col2\" class=\"data row7 col2\" >0.174119</td>\n",
       "      <td id=\"T_36446_row7_col3\" class=\"data row7 col3\" >0.247275</td>\n",
       "      <td id=\"T_36446_row7_col4\" class=\"data row7 col4\" >0.080694</td>\n",
       "      <td id=\"T_36446_row7_col5\" class=\"data row7 col5\" >0.111003</td>\n",
       "      <td id=\"T_36446_row7_col6\" class=\"data row7 col6\" >0.940995</td>\n",
       "      <td id=\"T_36446_row7_col7\" class=\"data row7 col7\" >1.000000</td>\n",
       "      <td id=\"T_36446_row7_col8\" class=\"data row7 col8\" >0.924031</td>\n",
       "      <td id=\"T_36446_row7_col9\" class=\"data row7 col9\" >0.918736</td>\n",
       "    </tr>\n",
       "    <tr>\n",
       "      <th id=\"T_36446_level0_row8\" class=\"row_heading level0 row8\" >write some more sentences 3</th>\n",
       "      <td id=\"T_36446_row8_col0\" class=\"data row8 col0\" >0.165194</td>\n",
       "      <td id=\"T_36446_row8_col1\" class=\"data row8 col1\" >0.134930</td>\n",
       "      <td id=\"T_36446_row8_col2\" class=\"data row8 col2\" >0.151783</td>\n",
       "      <td id=\"T_36446_row8_col3\" class=\"data row8 col3\" >0.225213</td>\n",
       "      <td id=\"T_36446_row8_col4\" class=\"data row8 col4\" >0.063166</td>\n",
       "      <td id=\"T_36446_row8_col5\" class=\"data row8 col5\" >0.100311</td>\n",
       "      <td id=\"T_36446_row8_col6\" class=\"data row8 col6\" >0.922456</td>\n",
       "      <td id=\"T_36446_row8_col7\" class=\"data row8 col7\" >0.924031</td>\n",
       "      <td id=\"T_36446_row8_col8\" class=\"data row8 col8\" >1.000000</td>\n",
       "      <td id=\"T_36446_row8_col9\" class=\"data row8 col9\" >0.925028</td>\n",
       "    </tr>\n",
       "    <tr>\n",
       "      <th id=\"T_36446_level0_row9\" class=\"row_heading level0 row9\" >write some more sentences 4</th>\n",
       "      <td id=\"T_36446_row9_col0\" class=\"data row9 col0\" >0.140539</td>\n",
       "      <td id=\"T_36446_row9_col1\" class=\"data row9 col1\" >0.139572</td>\n",
       "      <td id=\"T_36446_row9_col2\" class=\"data row9 col2\" >0.169388</td>\n",
       "      <td id=\"T_36446_row9_col3\" class=\"data row9 col3\" >0.251053</td>\n",
       "      <td id=\"T_36446_row9_col4\" class=\"data row9 col4\" >0.086606</td>\n",
       "      <td id=\"T_36446_row9_col5\" class=\"data row9 col5\" >0.123455</td>\n",
       "      <td id=\"T_36446_row9_col6\" class=\"data row9 col6\" >0.914263</td>\n",
       "      <td id=\"T_36446_row9_col7\" class=\"data row9 col7\" >0.918736</td>\n",
       "      <td id=\"T_36446_row9_col8\" class=\"data row9 col8\" >0.925028</td>\n",
       "      <td id=\"T_36446_row9_col9\" class=\"data row9 col9\" >1.000000</td>\n",
       "    </tr>\n",
       "  </tbody>\n",
       "</table>\n"
      ],
      "text/plain": [
       "<pandas.io.formats.style.Styler at 0x3285add50>"
      ]
     },
     "execution_count": 6,
     "metadata": {},
     "output_type": "execute_result"
    }
   ],
   "source": [
    "from sklearn.metrics.pairwise import cosine_similarity\n",
    "\n",
    "# Compute similarities exactly the same as we did before!\n",
    "similarities = cosine_similarity(embeddings)\n",
    "\n",
    "# Turn into a dataframe\n",
    "pd.DataFrame(similarities,\n",
    "            index=sentences,\n",
    "            columns=sentences) \\\n",
    "            .style \\\n",
    "            .background_gradient(axis=None)"
   ]
  },
  {
   "cell_type": "code",
   "execution_count": 7,
   "id": "2b65a61a-f129-49bc-a7a6-b6171a1ea6b2",
   "metadata": {},
   "outputs": [
    {
     "data": {
      "application/vnd.jupyter.widget-view+json": {
       "model_id": "a3ab75caad5846c287dab8e10961907e",
       "version_major": 2,
       "version_minor": 0
      },
      "text/plain": [
       "README.md:   0%|          | 0.00/2.46k [00:00<?, ?B/s]"
      ]
     },
     "metadata": {},
     "output_type": "display_data"
    },
    {
     "data": {
      "application/vnd.jupyter.widget-view+json": {
       "model_id": "b5c4d6420b8d471cbe4258932f839e6f",
       "version_major": 2,
       "version_minor": 0
      },
      "text/plain": [
       "model.safetensors:   0%|          | 0.00/539M [00:00<?, ?B/s]"
      ]
     },
     "metadata": {},
     "output_type": "display_data"
    },
    {
     "data": {
      "application/vnd.jupyter.widget-view+json": {
       "model_id": "8730fa759f534b40aac0e4ce98910078",
       "version_major": 2,
       "version_minor": 0
      },
      "text/plain": [
       "model.safetensors:   0%|          | 0.00/1.58M [00:00<?, ?B/s]"
      ]
     },
     "metadata": {},
     "output_type": "display_data"
    },
    {
     "name": "stderr",
     "output_type": "stream",
     "text": [
      "/Users/soma/.pyenv/versions/3.10.13/lib/python3.10/site-packages/sentence_transformers/models/Dense.py:77: FutureWarning: You are using `torch.load` with `weights_only=False` (the current default value), which uses the default pickle module implicitly. It is possible to construct malicious pickle data which will execute arbitrary code during unpickling (See https://github.com/pytorch/pytorch/blob/main/SECURITY.md#untrusted-models for more details). In a future release, the default value for `weights_only` will be flipped to `True`. This limits the functions that could be executed during unpickling. Arbitrary objects will no longer be allowed to be loaded via this mode unless they are explicitly allowlisted by the user via `torch.serialization.add_safe_globals`. We recommend you start setting `weights_only=True` for any use case where you don't have full control of the loaded file. Please open an issue on GitHub for any issues related to this experimental feature.\n",
      "  torch.load(os.path.join(input_path, \"pytorch_model.bin\"), map_location=torch.device(\"cpu\"))\n"
     ]
    }
   ],
   "source": [
    "model = SentenceTransformer('sentence-transformers/distiluse-base-multilingual-cased-v2')\n",
    "embeddings = model.encode(sentences)"
   ]
  },
  {
   "cell_type": "code",
   "execution_count": 8,
   "id": "bcb047ac-1799-4399-b110-e771c6af61d0",
   "metadata": {},
   "outputs": [
    {
     "data": {
      "text/html": [
       "<style type=\"text/css\">\n",
       "#T_76b06_row0_col0, #T_76b06_row1_col1, #T_76b06_row2_col2, #T_76b06_row3_col3, #T_76b06_row4_col4, #T_76b06_row5_col5, #T_76b06_row6_col6, #T_76b06_row7_col7, #T_76b06_row8_col8, #T_76b06_row9_col9 {\n",
       "  background-color: #023858;\n",
       "  color: #f1f1f1;\n",
       "}\n",
       "#T_76b06_row0_col1, #T_76b06_row1_col0 {\n",
       "  background-color: #9cb9d9;\n",
       "  color: #000000;\n",
       "}\n",
       "#T_76b06_row0_col2, #T_76b06_row1_col2, #T_76b06_row2_col0, #T_76b06_row2_col1, #T_76b06_row3_col6, #T_76b06_row6_col3 {\n",
       "  background-color: #ede8f3;\n",
       "  color: #000000;\n",
       "}\n",
       "#T_76b06_row0_col3, #T_76b06_row3_col0 {\n",
       "  background-color: #dbdaeb;\n",
       "  color: #000000;\n",
       "}\n",
       "#T_76b06_row0_col4, #T_76b06_row4_col0 {\n",
       "  background-color: #f8f1f8;\n",
       "  color: #000000;\n",
       "}\n",
       "#T_76b06_row0_col5, #T_76b06_row5_col0 {\n",
       "  background-color: #fff7fb;\n",
       "  color: #000000;\n",
       "}\n",
       "#T_76b06_row0_col6, #T_76b06_row0_col7, #T_76b06_row0_col9, #T_76b06_row6_col0, #T_76b06_row7_col0, #T_76b06_row9_col0 {\n",
       "  background-color: #eae6f1;\n",
       "  color: #000000;\n",
       "}\n",
       "#T_76b06_row0_col8, #T_76b06_row1_col9, #T_76b06_row8_col0, #T_76b06_row9_col1 {\n",
       "  background-color: #e7e3f0;\n",
       "  color: #000000;\n",
       "}\n",
       "#T_76b06_row1_col3, #T_76b06_row3_col1 {\n",
       "  background-color: #d2d2e7;\n",
       "  color: #000000;\n",
       "}\n",
       "#T_76b06_row1_col4, #T_76b06_row4_col1 {\n",
       "  background-color: #f5eff6;\n",
       "  color: #000000;\n",
       "}\n",
       "#T_76b06_row1_col5, #T_76b06_row5_col1 {\n",
       "  background-color: #f9f2f8;\n",
       "  color: #000000;\n",
       "}\n",
       "#T_76b06_row1_col6, #T_76b06_row1_col8, #T_76b06_row6_col1, #T_76b06_row8_col1 {\n",
       "  background-color: #e4e1ef;\n",
       "  color: #000000;\n",
       "}\n",
       "#T_76b06_row1_col7, #T_76b06_row7_col1 {\n",
       "  background-color: #e3e0ee;\n",
       "  color: #000000;\n",
       "}\n",
       "#T_76b06_row2_col3, #T_76b06_row3_col2 {\n",
       "  background-color: #86b0d3;\n",
       "  color: #000000;\n",
       "}\n",
       "#T_76b06_row2_col4, #T_76b06_row4_col2 {\n",
       "  background-color: #2685bb;\n",
       "  color: #f1f1f1;\n",
       "}\n",
       "#T_76b06_row2_col5, #T_76b06_row5_col2 {\n",
       "  background-color: #e8e4f0;\n",
       "  color: #000000;\n",
       "}\n",
       "#T_76b06_row2_col6, #T_76b06_row6_col2 {\n",
       "  background-color: #dedcec;\n",
       "  color: #000000;\n",
       "}\n",
       "#T_76b06_row2_col7, #T_76b06_row4_col8, #T_76b06_row7_col2, #T_76b06_row8_col4 {\n",
       "  background-color: #dfddec;\n",
       "  color: #000000;\n",
       "}\n",
       "#T_76b06_row2_col8, #T_76b06_row2_col9, #T_76b06_row8_col2, #T_76b06_row9_col2 {\n",
       "  background-color: #e0dded;\n",
       "  color: #000000;\n",
       "}\n",
       "#T_76b06_row3_col4, #T_76b06_row4_col3 {\n",
       "  background-color: #9fbad9;\n",
       "  color: #000000;\n",
       "}\n",
       "#T_76b06_row3_col5, #T_76b06_row4_col9, #T_76b06_row5_col3, #T_76b06_row9_col4 {\n",
       "  background-color: #e0deed;\n",
       "  color: #000000;\n",
       "}\n",
       "#T_76b06_row3_col7, #T_76b06_row3_col8, #T_76b06_row3_col9, #T_76b06_row7_col3, #T_76b06_row8_col3, #T_76b06_row9_col3 {\n",
       "  background-color: #eee8f3;\n",
       "  color: #000000;\n",
       "}\n",
       "#T_76b06_row4_col5, #T_76b06_row5_col4 {\n",
       "  background-color: #ced0e6;\n",
       "  color: #000000;\n",
       "}\n",
       "#T_76b06_row4_col6, #T_76b06_row6_col4 {\n",
       "  background-color: #dad9ea;\n",
       "  color: #000000;\n",
       "}\n",
       "#T_76b06_row4_col7, #T_76b06_row7_col4 {\n",
       "  background-color: #dddbec;\n",
       "  color: #000000;\n",
       "}\n",
       "#T_76b06_row5_col6, #T_76b06_row5_col8, #T_76b06_row5_col9, #T_76b06_row6_col5, #T_76b06_row8_col5, #T_76b06_row9_col5 {\n",
       "  background-color: #fef6fa;\n",
       "  color: #000000;\n",
       "}\n",
       "#T_76b06_row5_col7, #T_76b06_row7_col5 {\n",
       "  background-color: #fcf4fa;\n",
       "  color: #000000;\n",
       "}\n",
       "#T_76b06_row6_col7, #T_76b06_row7_col6 {\n",
       "  background-color: #045e94;\n",
       "  color: #f1f1f1;\n",
       "}\n",
       "#T_76b06_row6_col8, #T_76b06_row8_col6 {\n",
       "  background-color: #04629a;\n",
       "  color: #f1f1f1;\n",
       "}\n",
       "#T_76b06_row6_col9, #T_76b06_row9_col6 {\n",
       "  background-color: #0569a4;\n",
       "  color: #f1f1f1;\n",
       "}\n",
       "#T_76b06_row7_col8, #T_76b06_row8_col7 {\n",
       "  background-color: #045c90;\n",
       "  color: #f1f1f1;\n",
       "}\n",
       "#T_76b06_row7_col9, #T_76b06_row9_col7 {\n",
       "  background-color: #0566a0;\n",
       "  color: #f1f1f1;\n",
       "}\n",
       "#T_76b06_row8_col9, #T_76b06_row9_col8 {\n",
       "  background-color: #045f95;\n",
       "  color: #f1f1f1;\n",
       "}\n",
       "</style>\n",
       "<table id=\"T_76b06\">\n",
       "  <thead>\n",
       "    <tr>\n",
       "      <th class=\"blank level0\" >&nbsp;</th>\n",
       "      <th id=\"T_76b06_level0_col0\" class=\"col_heading level0 col0\" >Molly ate a fish</th>\n",
       "      <th id=\"T_76b06_level0_col1\" class=\"col_heading level0 col1\" >Jen consumed a carp</th>\n",
       "      <th id=\"T_76b06_level0_col2\" class=\"col_heading level0 col2\" >I would like to sell you a house</th>\n",
       "      <th id=\"T_76b06_level0_col3\" class=\"col_heading level0 col3\" >Я пытаюсь купить дачу</th>\n",
       "      <th id=\"T_76b06_level0_col4\" class=\"col_heading level0 col4\" >J'aimerais vous louer un grand appartement</th>\n",
       "      <th id=\"T_76b06_level0_col5\" class=\"col_heading level0 col5\" >This is a wonderful investment opportunity</th>\n",
       "      <th id=\"T_76b06_level0_col6\" class=\"col_heading level0 col6\" >write some more sentences 1</th>\n",
       "      <th id=\"T_76b06_level0_col7\" class=\"col_heading level0 col7\" >write some more sentences 2</th>\n",
       "      <th id=\"T_76b06_level0_col8\" class=\"col_heading level0 col8\" >write some more sentences 3</th>\n",
       "      <th id=\"T_76b06_level0_col9\" class=\"col_heading level0 col9\" >write some more sentences 4</th>\n",
       "    </tr>\n",
       "  </thead>\n",
       "  <tbody>\n",
       "    <tr>\n",
       "      <th id=\"T_76b06_level0_row0\" class=\"row_heading level0 row0\" >Molly ate a fish</th>\n",
       "      <td id=\"T_76b06_row0_col0\" class=\"data row0 col0\" >1.000000</td>\n",
       "      <td id=\"T_76b06_row0_col1\" class=\"data row0 col1\" >0.358347</td>\n",
       "      <td id=\"T_76b06_row0_col2\" class=\"data row0 col2\" >0.058340</td>\n",
       "      <td id=\"T_76b06_row0_col3\" class=\"data row0 col3\" >0.145439</td>\n",
       "      <td id=\"T_76b06_row0_col4\" class=\"data row0 col4\" >-0.024103</td>\n",
       "      <td id=\"T_76b06_row0_col5\" class=\"data row0 col5\" >-0.070145</td>\n",
       "      <td id=\"T_76b06_row0_col6\" class=\"data row0 col6\" >0.073381</td>\n",
       "      <td id=\"T_76b06_row0_col7\" class=\"data row0 col7\" >0.074465</td>\n",
       "      <td id=\"T_76b06_row0_col8\" class=\"data row0 col8\" >0.084661</td>\n",
       "      <td id=\"T_76b06_row0_col9\" class=\"data row0 col9\" >0.073484</td>\n",
       "    </tr>\n",
       "    <tr>\n",
       "      <th id=\"T_76b06_level0_row1\" class=\"row_heading level0 row1\" >Jen consumed a carp</th>\n",
       "      <td id=\"T_76b06_row1_col0\" class=\"data row1 col0\" >0.358347</td>\n",
       "      <td id=\"T_76b06_row1_col1\" class=\"data row1 col1\" >1.000000</td>\n",
       "      <td id=\"T_76b06_row1_col2\" class=\"data row1 col2\" >0.059195</td>\n",
       "      <td id=\"T_76b06_row1_col3\" class=\"data row1 col3\" >0.190241</td>\n",
       "      <td id=\"T_76b06_row1_col4\" class=\"data row1 col4\" >-0.001941</td>\n",
       "      <td id=\"T_76b06_row1_col5\" class=\"data row1 col5\" >-0.024359</td>\n",
       "      <td id=\"T_76b06_row1_col6\" class=\"data row1 col6\" >0.104019</td>\n",
       "      <td id=\"T_76b06_row1_col7\" class=\"data row1 col7\" >0.105506</td>\n",
       "      <td id=\"T_76b06_row1_col8\" class=\"data row1 col8\" >0.101851</td>\n",
       "      <td id=\"T_76b06_row1_col9\" class=\"data row1 col9\" >0.088226</td>\n",
       "    </tr>\n",
       "    <tr>\n",
       "      <th id=\"T_76b06_level0_row2\" class=\"row_heading level0 row2\" >I would like to sell you a house</th>\n",
       "      <td id=\"T_76b06_row2_col0\" class=\"data row2 col0\" >0.058340</td>\n",
       "      <td id=\"T_76b06_row2_col1\" class=\"data row2 col1\" >0.059195</td>\n",
       "      <td id=\"T_76b06_row2_col2\" class=\"data row2 col2\" >1.000000</td>\n",
       "      <td id=\"T_76b06_row2_col3\" class=\"data row2 col3\" >0.418692</td>\n",
       "      <td id=\"T_76b06_row2_col4\" class=\"data row2 col4\" >0.642746</td>\n",
       "      <td id=\"T_76b06_row2_col5\" class=\"data row2 col5\" >0.081795</td>\n",
       "      <td id=\"T_76b06_row2_col6\" class=\"data row2 col6\" >0.130625</td>\n",
       "      <td id=\"T_76b06_row2_col7\" class=\"data row2 col7\" >0.127598</td>\n",
       "      <td id=\"T_76b06_row2_col8\" class=\"data row2 col8\" >0.122881</td>\n",
       "      <td id=\"T_76b06_row2_col9\" class=\"data row2 col9\" >0.125155</td>\n",
       "    </tr>\n",
       "    <tr>\n",
       "      <th id=\"T_76b06_level0_row3\" class=\"row_heading level0 row3\" >Я пытаюсь купить дачу</th>\n",
       "      <td id=\"T_76b06_row3_col0\" class=\"data row3 col0\" >0.145439</td>\n",
       "      <td id=\"T_76b06_row3_col1\" class=\"data row3 col1\" >0.190241</td>\n",
       "      <td id=\"T_76b06_row3_col2\" class=\"data row3 col2\" >0.418692</td>\n",
       "      <td id=\"T_76b06_row3_col3\" class=\"data row3 col3\" >1.000000</td>\n",
       "      <td id=\"T_76b06_row3_col4\" class=\"data row3 col4\" >0.351605</td>\n",
       "      <td id=\"T_76b06_row3_col5\" class=\"data row3 col5\" >0.120679</td>\n",
       "      <td id=\"T_76b06_row3_col6\" class=\"data row3 col6\" >0.057963</td>\n",
       "      <td id=\"T_76b06_row3_col7\" class=\"data row3 col7\" >0.053296</td>\n",
       "      <td id=\"T_76b06_row3_col8\" class=\"data row3 col8\" >0.055026</td>\n",
       "      <td id=\"T_76b06_row3_col9\" class=\"data row3 col9\" >0.054982</td>\n",
       "    </tr>\n",
       "    <tr>\n",
       "      <th id=\"T_76b06_level0_row4\" class=\"row_heading level0 row4\" >J'aimerais vous louer un grand appartement</th>\n",
       "      <td id=\"T_76b06_row4_col0\" class=\"data row4 col0\" >-0.024103</td>\n",
       "      <td id=\"T_76b06_row4_col1\" class=\"data row4 col1\" >-0.001941</td>\n",
       "      <td id=\"T_76b06_row4_col2\" class=\"data row4 col2\" >0.642746</td>\n",
       "      <td id=\"T_76b06_row4_col3\" class=\"data row4 col3\" >0.351605</td>\n",
       "      <td id=\"T_76b06_row4_col4\" class=\"data row4 col4\" >1.000000</td>\n",
       "      <td id=\"T_76b06_row4_col5\" class=\"data row4 col5\" >0.203307</td>\n",
       "      <td id=\"T_76b06_row4_col6\" class=\"data row4 col6\" >0.151041</td>\n",
       "      <td id=\"T_76b06_row4_col7\" class=\"data row4 col7\" >0.135720</td>\n",
       "      <td id=\"T_76b06_row4_col8\" class=\"data row4 col8\" >0.126648</td>\n",
       "      <td id=\"T_76b06_row4_col9\" class=\"data row4 col9\" >0.121582</td>\n",
       "    </tr>\n",
       "    <tr>\n",
       "      <th id=\"T_76b06_level0_row5\" class=\"row_heading level0 row5\" >This is a wonderful investment opportunity</th>\n",
       "      <td id=\"T_76b06_row5_col0\" class=\"data row5 col0\" >-0.070145</td>\n",
       "      <td id=\"T_76b06_row5_col1\" class=\"data row5 col1\" >-0.024359</td>\n",
       "      <td id=\"T_76b06_row5_col2\" class=\"data row5 col2\" >0.081795</td>\n",
       "      <td id=\"T_76b06_row5_col3\" class=\"data row5 col3\" >0.120679</td>\n",
       "      <td id=\"T_76b06_row5_col4\" class=\"data row5 col4\" >0.203307</td>\n",
       "      <td id=\"T_76b06_row5_col5\" class=\"data row5 col5\" >1.000000</td>\n",
       "      <td id=\"T_76b06_row5_col6\" class=\"data row5 col6\" >-0.059420</td>\n",
       "      <td id=\"T_76b06_row5_col7\" class=\"data row5 col7\" >-0.049101</td>\n",
       "      <td id=\"T_76b06_row5_col8\" class=\"data row5 col8\" >-0.059882</td>\n",
       "      <td id=\"T_76b06_row5_col9\" class=\"data row5 col9\" >-0.060564</td>\n",
       "    </tr>\n",
       "    <tr>\n",
       "      <th id=\"T_76b06_level0_row6\" class=\"row_heading level0 row6\" >write some more sentences 1</th>\n",
       "      <td id=\"T_76b06_row6_col0\" class=\"data row6 col0\" >0.073381</td>\n",
       "      <td id=\"T_76b06_row6_col1\" class=\"data row6 col1\" >0.104019</td>\n",
       "      <td id=\"T_76b06_row6_col2\" class=\"data row6 col2\" >0.130625</td>\n",
       "      <td id=\"T_76b06_row6_col3\" class=\"data row6 col3\" >0.057963</td>\n",
       "      <td id=\"T_76b06_row6_col4\" class=\"data row6 col4\" >0.151041</td>\n",
       "      <td id=\"T_76b06_row6_col5\" class=\"data row6 col5\" >-0.059420</td>\n",
       "      <td id=\"T_76b06_row6_col6\" class=\"data row6 col6\" >1.000000</td>\n",
       "      <td id=\"T_76b06_row6_col7\" class=\"data row6 col7\" >0.840774</td>\n",
       "      <td id=\"T_76b06_row6_col8\" class=\"data row6 col8\" >0.812648</td>\n",
       "      <td id=\"T_76b06_row6_col9\" class=\"data row6 col9\" >0.776320</td>\n",
       "    </tr>\n",
       "    <tr>\n",
       "      <th id=\"T_76b06_level0_row7\" class=\"row_heading level0 row7\" >write some more sentences 2</th>\n",
       "      <td id=\"T_76b06_row7_col0\" class=\"data row7 col0\" >0.074465</td>\n",
       "      <td id=\"T_76b06_row7_col1\" class=\"data row7 col1\" >0.105506</td>\n",
       "      <td id=\"T_76b06_row7_col2\" class=\"data row7 col2\" >0.127598</td>\n",
       "      <td id=\"T_76b06_row7_col3\" class=\"data row7 col3\" >0.053296</td>\n",
       "      <td id=\"T_76b06_row7_col4\" class=\"data row7 col4\" >0.135720</td>\n",
       "      <td id=\"T_76b06_row7_col5\" class=\"data row7 col5\" >-0.049101</td>\n",
       "      <td id=\"T_76b06_row7_col6\" class=\"data row7 col6\" >0.840774</td>\n",
       "      <td id=\"T_76b06_row7_col7\" class=\"data row7 col7\" >1.000000</td>\n",
       "      <td id=\"T_76b06_row7_col8\" class=\"data row7 col8\" >0.850235</td>\n",
       "      <td id=\"T_76b06_row7_col9\" class=\"data row7 col9\" >0.793673</td>\n",
       "    </tr>\n",
       "    <tr>\n",
       "      <th id=\"T_76b06_level0_row8\" class=\"row_heading level0 row8\" >write some more sentences 3</th>\n",
       "      <td id=\"T_76b06_row8_col0\" class=\"data row8 col0\" >0.084661</td>\n",
       "      <td id=\"T_76b06_row8_col1\" class=\"data row8 col1\" >0.101851</td>\n",
       "      <td id=\"T_76b06_row8_col2\" class=\"data row8 col2\" >0.122881</td>\n",
       "      <td id=\"T_76b06_row8_col3\" class=\"data row8 col3\" >0.055026</td>\n",
       "      <td id=\"T_76b06_row8_col4\" class=\"data row8 col4\" >0.126648</td>\n",
       "      <td id=\"T_76b06_row8_col5\" class=\"data row8 col5\" >-0.059882</td>\n",
       "      <td id=\"T_76b06_row8_col6\" class=\"data row8 col6\" >0.812648</td>\n",
       "      <td id=\"T_76b06_row8_col7\" class=\"data row8 col7\" >0.850235</td>\n",
       "      <td id=\"T_76b06_row8_col8\" class=\"data row8 col8\" >1.000000</td>\n",
       "      <td id=\"T_76b06_row8_col9\" class=\"data row8 col9\" >0.836848</td>\n",
       "    </tr>\n",
       "    <tr>\n",
       "      <th id=\"T_76b06_level0_row9\" class=\"row_heading level0 row9\" >write some more sentences 4</th>\n",
       "      <td id=\"T_76b06_row9_col0\" class=\"data row9 col0\" >0.073484</td>\n",
       "      <td id=\"T_76b06_row9_col1\" class=\"data row9 col1\" >0.088226</td>\n",
       "      <td id=\"T_76b06_row9_col2\" class=\"data row9 col2\" >0.125155</td>\n",
       "      <td id=\"T_76b06_row9_col3\" class=\"data row9 col3\" >0.054982</td>\n",
       "      <td id=\"T_76b06_row9_col4\" class=\"data row9 col4\" >0.121582</td>\n",
       "      <td id=\"T_76b06_row9_col5\" class=\"data row9 col5\" >-0.060564</td>\n",
       "      <td id=\"T_76b06_row9_col6\" class=\"data row9 col6\" >0.776320</td>\n",
       "      <td id=\"T_76b06_row9_col7\" class=\"data row9 col7\" >0.793673</td>\n",
       "      <td id=\"T_76b06_row9_col8\" class=\"data row9 col8\" >0.836848</td>\n",
       "      <td id=\"T_76b06_row9_col9\" class=\"data row9 col9\" >1.000000</td>\n",
       "    </tr>\n",
       "  </tbody>\n",
       "</table>\n"
      ],
      "text/plain": [
       "<pandas.io.formats.style.Styler at 0x106e4e290>"
      ]
     },
     "execution_count": 8,
     "metadata": {},
     "output_type": "execute_result"
    }
   ],
   "source": [
    "from sklearn.metrics.pairwise import cosine_similarity\n",
    "\n",
    "# Compute similarities exactly the same as we did before!\n",
    "similarities = cosine_similarity(embeddings)\n",
    "\n",
    "# Turn into a dataframe\n",
    "pd.DataFrame(similarities,\n",
    "            index=sentences,\n",
    "            columns=sentences) \\\n",
    "            .style \\\n",
    "            .background_gradient(axis=None)"
   ]
  },
  {
   "cell_type": "markdown",
   "id": "01804a1b-ac5d-4c44-bdea-f2d174a1c659",
   "metadata": {},
   "source": [
    "Why would you care about all of this? **Searching through your documents!** Sometimes you don't know exactly the words you're looking for, you just want something that kind of captures a feeling.\n",
    "\n",
    "That's how John Keefe and Jeremy Merrill helped ICIJ navigate through over 300gb of multilingual data in [the Luanda Leaks](https://qz.com/1786896/ai-for-investigations-sorting-through-the-luanda-leaks). Jeremy is also releasing a tool today or tomorrow, you can sneak a peek at it [over here](https://github.com/jeremybmerrill/meaningfully), or check out [Semantra](https://github.com/freedmand/semantra) by Dylan Freedman.\n",
    "\n",
    "You can also use embeddings for [general similarity clustering](https://www.commons-project.com/dockets/FDA-2019-N-5959), too!"
   ]
  },
  {
   "cell_type": "markdown",
   "id": "154f6d9e-6212-46cc-a445-9f9709742d0f",
   "metadata": {},
   "source": [
    "# Retrieval-augmented generation/document-based Q&A\n",
    "\n",
    "These days everyone loves to search across documents. Let's see how that works with embeddings!"
   ]
  },
  {
   "cell_type": "code",
   "execution_count": 9,
   "id": "13ff33d4-62e8-428e-bdf2-f53e8c55c0a4",
   "metadata": {},
   "outputs": [],
   "source": [
    "import os\n",
    "os.environ['OPENAI_API_KEY'] = 'XXXXXXXX'"
   ]
  },
  {
   "cell_type": "code",
   "execution_count": 10,
   "id": "e1131414-38f0-41a9-9dd0-2c68a3fba55f",
   "metadata": {},
   "outputs": [
    {
     "name": "stderr",
     "output_type": "stream",
     "text": [
      "Ignoring wrong pointing object 6 0 (offset 0)\n",
      "Ignoring wrong pointing object 8 0 (offset 0)\n",
      "Ignoring wrong pointing object 10 0 (offset 0)\n",
      "Ignoring wrong pointing object 12 0 (offset 0)\n",
      "Ignoring wrong pointing object 14 0 (offset 0)\n",
      "Ignoring wrong pointing object 23 0 (offset 0)\n",
      "Ignoring wrong pointing object 25 0 (offset 0)\n",
      "Ignoring wrong pointing object 27 0 (offset 0)\n",
      "Ignoring wrong pointing object 29 0 (offset 0)\n",
      "Ignoring wrong pointing object 31 0 (offset 0)\n",
      "Ignoring wrong pointing object 45 0 (offset 0)\n",
      "Ignoring wrong pointing object 6 0 (offset 0)\n",
      "Ignoring wrong pointing object 8 0 (offset 0)\n",
      "Ignoring wrong pointing object 10 0 (offset 0)\n",
      "Ignoring wrong pointing object 12 0 (offset 0)\n",
      "Ignoring wrong pointing object 14 0 (offset 0)\n",
      "Ignoring wrong pointing object 23 0 (offset 0)\n",
      "Ignoring wrong pointing object 25 0 (offset 0)\n",
      "Ignoring wrong pointing object 27 0 (offset 0)\n",
      "Ignoring wrong pointing object 29 0 (offset 0)\n",
      "Ignoring wrong pointing object 31 0 (offset 0)\n",
      "Ignoring wrong pointing object 33 0 (offset 0)\n",
      "Ignoring wrong pointing object 35 0 (offset 0)\n",
      "Ignoring wrong pointing object 37 0 (offset 0)\n",
      "Ignoring wrong pointing object 39 0 (offset 0)\n",
      "Ignoring wrong pointing object 41 0 (offset 0)\n",
      "Ignoring wrong pointing object 43 0 (offset 0)\n",
      "Ignoring wrong pointing object 47 0 (offset 0)\n"
     ]
    }
   ],
   "source": [
    "from llama_index.core import VectorStoreIndex, SimpleDirectoryReader\n",
    "\n",
    "documents = SimpleDirectoryReader(\"documents\").load_data()\n",
    "index = VectorStoreIndex.from_documents(documents)"
   ]
  },
  {
   "cell_type": "code",
   "execution_count": 11,
   "id": "fa6531db-360b-481f-9f24-211a147e5251",
   "metadata": {},
   "outputs": [
    {
     "name": "stdout",
     "output_type": "stream",
     "text": [
      "The red cow was the one who saw the one-eyed girl spying on Ferkó in the stable and warned her not to reveal who gave Ferkó food, threatening her with dire consequences if she did.\n"
     ]
    }
   ],
   "source": [
    "query_engine = index.as_query_engine()\n",
    "response = query_engine.query(\"Who was the red cow?\")\n",
    "print(response)"
   ]
  },
  {
   "cell_type": "code",
   "execution_count": 12,
   "id": "57220b20-4a09-442c-b0ea-2d3e8b290bb0",
   "metadata": {},
   "outputs": [
    {
     "name": "stdout",
     "output_type": "stream",
     "text": [
      "The red cow was helping Ferko because it wanted to protect him from the dangerous animals that were threatening him.\n"
     ]
    }
   ],
   "source": [
    "query_engine = index.as_query_engine()\n",
    "response = query_engine.query(\"Why was the red cow helping Ferko?\")\n",
    "print(response)"
   ]
  },
  {
   "cell_type": "markdown",
   "id": "9378ed93-9457-45b3-b805-092148b323ee",
   "metadata": {},
   "source": [
    "What happens if we run it again?"
   ]
  },
  {
   "cell_type": "code",
   "execution_count": 13,
   "id": "0adf691c-9fa7-4b5d-9444-73c048995a62",
   "metadata": {},
   "outputs": [
    {
     "name": "stdout",
     "output_type": "stream",
     "text": [
      "The red cow was helping Ferko because it instructed him to blow a whistle if he needed help, promising to return immediately. This shows that the red cow was looking out for Ferko's safety and well-being, ready to assist him whenever he needed help or was in danger.\n"
     ]
    }
   ],
   "source": [
    "query_engine = index.as_query_engine()\n",
    "response = query_engine.query(\"Why was the red cow helping Ferko?\")\n",
    "print(response)"
   ]
  },
  {
   "cell_type": "markdown",
   "id": "28d1c4c2-270b-4cf9-ba99-04c83ffca342",
   "metadata": {},
   "source": [
    "What if we want to provide more context? By default it only gives the top 2 most relevant documents."
   ]
  },
  {
   "cell_type": "code",
   "execution_count": 14,
   "id": "23073004-37b5-4cab-b495-581435d3b4c1",
   "metadata": {},
   "outputs": [
    {
     "name": "stdout",
     "output_type": "stream",
     "text": [
      "The red cow was helping Ferko because it was actually his mother who had transformed into the cow to nourish him. She saw how poorly he was being treated and wanted to provide him with proper food and care without revealing her true identity to anyone.\n"
     ]
    }
   ],
   "source": [
    "query_engine = index.as_query_engine(similarity_top_k=5)\n",
    "response = query_engine.query(\"Why was the red cow helping Ferko?\")\n",
    "print(response)"
   ]
  },
  {
   "cell_type": "code",
   "execution_count": 15,
   "id": "79bee641-402f-4da0-841d-9b2947d5c0b7",
   "metadata": {},
   "outputs": [
    {
     "name": "stdout",
     "output_type": "stream",
     "text": [
      "As a landlord, you cannot discriminate against individuals based on their lawful source of income, including those who receive public assistance or vouchers. Discriminating against individuals because they are poor or receive subsidies is against the law, as protected under the NYC Human Rights Law.\n"
     ]
    }
   ],
   "source": [
    "query_engine = index.as_query_engine(similarity_top_k=5)\n",
    "response = query_engine.query(\"As a landlord, can I discriminate against poor people?\")\n",
    "print(response)"
   ]
  },
  {
   "cell_type": "code",
   "execution_count": 16,
   "id": "355ac871-bc2d-4ff0-b2da-18e9e2f28101",
   "metadata": {},
   "outputs": [
    {
     "name": "stdout",
     "output_type": "stream",
     "text": [
      "No, as an employer, you are not entitled to take your employees' tips. Employees who regularly receive tips as part of their job are entitled to keep their tips, and employers are required to ensure that the employees' hourly tips and wages add up to at least the normal minimum wage.\n"
     ]
    }
   ],
   "source": [
    "query_engine = index.as_query_engine(similarity_top_k=5)\n",
    "response = query_engine.query(\"Can I take my employees tips? I run the restaurant, I deserve them.\")\n",
    "print(response)"
   ]
  },
  {
   "cell_type": "markdown",
   "id": "72e23e70-659d-4c3d-8a35-ad4e6681f64b",
   "metadata": {},
   "source": [
    "**Easy citations**"
   ]
  },
  {
   "cell_type": "code",
   "execution_count": 17,
   "id": "1bd5ac4b-25de-46a7-9843-58343bb417ff",
   "metadata": {},
   "outputs": [
    {
     "name": "stdout",
     "output_type": "stream",
     "text": [
      "Employers are not allowed to take their employees' tips. If employees regularly receive tips as part of their job, the employer must ensure that the employees receive at least the normal minimum wage when combining their hourly tips and wage. Employers are required to keep a weekly record of the amount of tips earned by each employee. Additionally, no tip credit is permitted for fast food employees. This information can be found on page 3 of the document \"Wages and pay _ New York State Attorney General.pdf.\"\n"
     ]
    }
   ],
   "source": [
    "query_engine = index.as_query_engine(similarity_top_k=5)\n",
    "response = query_engine.query(\"\"\"\n",
    "Can I take my employees tips? I run the restaurant, I deserve them. \n",
    "Cite filenames and page numbers where you retrieved information.\n",
    "\"\"\")\n",
    "print(response)"
   ]
  },
  {
   "cell_type": "markdown",
   "id": "5d856afd-2bba-42cb-9189-d7930bd7c6d3",
   "metadata": {},
   "source": [
    "**Sources**"
   ]
  },
  {
   "cell_type": "code",
   "execution_count": 18,
   "id": "ae879754-9cc0-4712-85a4-06ca1c31067e",
   "metadata": {},
   "outputs": [
    {
     "name": "stdout",
     "output_type": "stream",
     "text": [
      "-----\n",
      "Text:\t long people under age 18 can work, and for some workers, such as drivers, safety laws limit how many hours of work are permitted. For more information, contact the New York State Department of Labor at 1- 800-662-1220 or visit , or contact the U.S. Department of Labor at 1-866-4-USWAGE or visit . If I receive tips, how much is my employer required to pay me? Your employer may be able to pay you less than the normal minimum wage if all of the factors below are met: You regularly receive tips as part of your job. Your hourly tips and wage add up to at least the normal minimum wage. Your employer informed you that it is paying you less than the minimum wage because you regularly receive tips. Your employer keeps a weekly record of the amount of tips you earned each week. Tips can come in the form of cash, check, credit card, or any other form of payment. No tip credit is permitted for fast food employees. The minimum wage and maximum allowable tip credit for food service workers and servi ...\n",
      "Metadata:\t {'page_label': '3', 'file_name': 'Wages and pay _ New York State Attorney General.pdf', 'file_path': '/Users/soma/Library/CloudStorage/Dropbox/Soma/Curriculum/2025-nicar/long-ai-session/documents/Wages and pay _ New York State Attorney General.pdf', 'file_type': 'application/pdf', 'file_size': 426157, 'creation_date': '2025-03-06', 'last_modified_date': '2024-04-22'}\n",
      "Score:\t 0.794\n",
      "-----\n",
      "Text:\t For more information, visit    What can I do if my employer isn't paying me wages that I am owed? Employees have a right to sue to collect wages, but it is often more practical to complain to the Labor Standards Division of the New York State Department of Labor, which has many local of\u0000ces around the state. To \u0000nd the nearest of\u0000ce, you can check the  . You can also contact the Labor Bureau by submitting a  .  Can my employer \u0000re me for reporting violations to the Attorney General's Of\u0000ce or to the Department of Labor? No. You have the right to report violations. It is against the law for your employer to retaliate against you, or punish you in any way, for reporting violations. Employers who retaliate against workers for reporting violations are subject to a $10,000 penalty per violation, in addition to being liable for lost compensation and up to $10,000 per violation in liquidated damages. New York Codes, Rules, and Regulations (NYCRR) title 12, section 142. The building service in ...\n",
      "Metadata:\t {'page_label': '12', 'file_name': 'Wages and pay _ New York State Attorney General.pdf', 'file_path': '/Users/soma/Library/CloudStorage/Dropbox/Soma/Curriculum/2025-nicar/long-ai-session/documents/Wages and pay _ New York State Attorney General.pdf', 'file_type': 'application/pdf', 'file_size': 426157, 'creation_date': '2025-03-06', 'last_modified_date': '2024-04-22'}\n",
      "Score:\t 0.782\n",
      "-----\n",
      "Text:\t What is \"split shift\" or \"spread shift\" pay? Am I entitled to it? If your hours of work are split (not consecutive), or if your shift lasts more than 10 hours, you may be entitled to one additional hour's pay for the day, at the minimum wage hourly rate for New York. I was required to report to work, but sent home when I arrived. Am I entitled to pay? If you are required or permitted to report to work, even if you are not assigned actual work, you may be entitled to “call-in pay.” Usually, restaurant or hotel workers are entitled to three hours’ pay at the applicable minimum rate, and employees in other private workplaces are entitled to four hours’ pay at the applicable minimum rate. My employer wants to reduce my salary or change my hours or my job, and says I will be \u0000red unless I accept the change. I am not represented by a union and do not have an employment contract. Can they do this? Yes. If you are not in a union and do not have an employment contract, an employer can change th ...\n",
      "Metadata:\t {'page_label': '9', 'file_name': 'Wages and pay _ New York State Attorney General.pdf', 'file_path': '/Users/soma/Library/CloudStorage/Dropbox/Soma/Curriculum/2025-nicar/long-ai-session/documents/Wages and pay _ New York State Attorney General.pdf', 'file_type': 'application/pdf', 'file_size': 426157, 'creation_date': '2025-03-06', 'last_modified_date': '2024-04-22'}\n",
      "Score:\t 0.779\n",
      "-----\n",
      "Text:\t You can \u0000le a complaint with New York City in any of the following ways: Visit the  and submit a complaint (forms in multiple languages). Fill out the   and email it to OLPS@dca.nyc.gov. Call 311. Can my fast food employer \u0000re me without reason or cause? For fast food workers in New York City, employers cannot \u0000re an employee or reduce their average hours by more than 15% without just cause. If an employer has an economic reason to \u0000re an employee, the employer must \u0000re employees in reverse order of seniority and attempt to reinstate \u0000red employees before hiring a new employee. If the employer does not have just cause, the employee must have the opportunity to be reinstated into their prior position or have their hours restored. (NYC Admin Code § 20-1271) For more information about protections for retail and fast food workers in New York City, visit:  Do any of the following to \u0000le a complaint with New York City: Visit the  and submit a complaint (forms in multiple languages). Fill out ...\n",
      "Metadata:\t {'page_label': '8', 'file_name': 'Wages and pay _ New York State Attorney General.pdf', 'file_path': '/Users/soma/Library/CloudStorage/Dropbox/Soma/Curriculum/2025-nicar/long-ai-session/documents/Wages and pay _ New York State Attorney General.pdf', 'file_type': 'application/pdf', 'file_size': 426157, 'creation_date': '2025-03-06', 'last_modified_date': '2024-04-22'}\n",
      "Score:\t 0.777\n",
      "-----\n",
      "Text:\t 12 NYCRR § 190. See also . A fast food establishment is a business that primarily serves food or drinks, offers limited service, where customers order and pay before eating, and is part of a chain of 30 or more establishments nationally. NYCRR title 12, section 146-3.13(b). The hospitality industry includes hotels and restaurants. NYCRR title 12, section 146-3.1. NYCRR title 12, section 141-1.3. If the employee works in an executive or administrative capacity, see NYCRR title 12, section 141-3.2(c). If the employee works as a resident janitor, see NYCRR title 12, sections141-3.4, 3.5, 3.10. If the employer does not launder a required uniform, see NYCRR title 12, section141-3.11. NYCRR title 12, section 146-1.3(c). Where an employer provides lodging or meals, refer to the maximum allowed credits provided in NYCRR title 12, section 146. If the employee works in an executive or administrative capacity, see NYCRR title 12, section 146-3.2(c). A service employee is an employee, other than a ...\n",
      "Metadata:\t {'page_label': '13', 'file_name': 'Wages and pay _ New York State Attorney General.pdf', 'file_path': '/Users/soma/Library/CloudStorage/Dropbox/Soma/Curriculum/2025-nicar/long-ai-session/documents/Wages and pay _ New York State Attorney General.pdf', 'file_type': 'application/pdf', 'file_size': 426157, 'creation_date': '2025-03-06', 'last_modified_date': '2024-04-22'}\n",
      "Score:\t 0.776\n"
     ]
    }
   ],
   "source": [
    "for node in response.source_nodes:\n",
    "    print(\"-----\")\n",
    "    text_fmt = node.node.get_content().strip().replace(\"\\n\", \" \")[:1000]\n",
    "    print(f\"Text:\\t {text_fmt} ...\")\n",
    "    print(f\"Metadata:\\t {node.node.metadata}\")\n",
    "    print(f\"Score:\\t {node.score:.3f}\")\n"
   ]
  },
  {
   "cell_type": "markdown",
   "id": "7a9aa215-5853-405f-a4d3-7755815e566b",
   "metadata": {},
   "source": [
    "What happens if we run it again?"
   ]
  },
  {
   "cell_type": "markdown",
   "id": "50f9c6ba-3e58-47a1-8bef-1c1ef044aa24",
   "metadata": {},
   "source": [
    "There's also plenty of [other customizations we can make](https://docs.llamaindex.ai/en/stable/getting_started/customization.html)"
   ]
  },
  {
   "cell_type": "markdown",
   "id": "c921e167-4ccd-4bd5-a587-8f02c0214f88",
   "metadata": {},
   "source": [
    "## Local embedding\n",
    "\n",
    "These embeddings are currently coming from OpenAI, which makes them slow and expensive. They're pretty good, though! I can spill more words about them but the [general idea](https://openai.com/blog/new-embedding-models-and-api-updates) is:\n",
    "\n",
    "> Both of our new embedding models were trained with a technique Matryoshka Representation Learning that allows developers to trade-off performance and cost of using embeddings. Specifically, developers can shorten embeddings (i.e. remove some numbers from the end of the sequence) without the embedding losing its concept-representing properties by passing in the dimensions API parameter. For example, on the MTEB benchmark, a text-embedding-3-large embedding can be shortened to a size of 256 while still outperforming an unshortened text-embedding-ada-002 embedding with a size of 1536.\n",
    "\n",
    "The \"best\" embeddings (and tools for using them) are constantly changing, and [the major leaderboard](https://huggingface.co/spaces/mteb/leaderboard) is always being upset."
   ]
  },
  {
   "cell_type": "code",
   "execution_count": 19,
   "id": "4313ade7-f016-4a40-83b5-00bea2ef01da",
   "metadata": {},
   "outputs": [
    {
     "data": {
      "application/vnd.jupyter.widget-view+json": {
       "model_id": "d6d15ecb5a8f4e01865d65dc697e05b9",
       "version_major": 2,
       "version_minor": 0
      },
      "text/plain": [
       "modules.json:   0%|          | 0.00/349 [00:00<?, ?B/s]"
      ]
     },
     "metadata": {},
     "output_type": "display_data"
    },
    {
     "data": {
      "application/vnd.jupyter.widget-view+json": {
       "model_id": "3af0a6667ca64634a32ffe051007a70b",
       "version_major": 2,
       "version_minor": 0
      },
      "text/plain": [
       "config_sentence_transformers.json:   0%|          | 0.00/124 [00:00<?, ?B/s]"
      ]
     },
     "metadata": {},
     "output_type": "display_data"
    },
    {
     "data": {
      "application/vnd.jupyter.widget-view+json": {
       "model_id": "16c45667ac334799a0666bd0bf2cb933",
       "version_major": 2,
       "version_minor": 0
      },
      "text/plain": [
       "README.md:   0%|          | 0.00/94.8k [00:00<?, ?B/s]"
      ]
     },
     "metadata": {},
     "output_type": "display_data"
    },
    {
     "data": {
      "application/vnd.jupyter.widget-view+json": {
       "model_id": "0fd02c35ba034b778859a1fcf2160d48",
       "version_major": 2,
       "version_minor": 0
      },
      "text/plain": [
       "sentence_bert_config.json:   0%|          | 0.00/52.0 [00:00<?, ?B/s]"
      ]
     },
     "metadata": {},
     "output_type": "display_data"
    },
    {
     "data": {
      "application/vnd.jupyter.widget-view+json": {
       "model_id": "2d5ca50ecec04ed690e014236a632f51",
       "version_major": 2,
       "version_minor": 0
      },
      "text/plain": [
       "config.json:   0%|          | 0.00/190 [00:00<?, ?B/s]"
      ]
     },
     "metadata": {},
     "output_type": "display_data"
    }
   ],
   "source": [
    "from llama_index.embeddings.huggingface import HuggingFaceEmbedding\n",
    "\n",
    "# loads BAAI/bge-small-en\n",
    "# embed_model = HuggingFaceEmbedding()\n",
    "\n",
    "# loads BAAI/bge-small-en-v1.5\n",
    "embed_model = HuggingFaceEmbedding(model_name=\"BAAI/bge-small-en-v1.5\")"
   ]
  },
  {
   "cell_type": "code",
   "execution_count": 20,
   "id": "4acd0519-a4b0-4482-8371-f47d86744832",
   "metadata": {},
   "outputs": [
    {
     "name": "stdout",
     "output_type": "stream",
     "text": [
      "[-0.003275728551670909, -0.011690821498632431, 0.041559234261512756, -0.03814810886979103, 0.024183064699172974]\n"
     ]
    }
   ],
   "source": [
    "embeddings = embed_model.get_text_embedding(\"Hello World!\")\n",
    "print(embeddings[:5])"
   ]
  },
  {
   "cell_type": "code",
   "execution_count": 21,
   "id": "0f9549a3-c694-41d7-b135-9fc2d411d827",
   "metadata": {},
   "outputs": [
    {
     "data": {
      "application/vnd.jupyter.widget-view+json": {
       "model_id": "e730181721ae4a458d9013e012253646",
       "version_major": 2,
       "version_minor": 0
      },
      "text/plain": [
       "README.md:   0%|          | 0.00/15.8k [00:00<?, ?B/s]"
      ]
     },
     "metadata": {},
     "output_type": "display_data"
    }
   ],
   "source": [
    "from llama_index.core import Settings\n",
    "from llama_index.embeddings.huggingface import HuggingFaceEmbedding\n",
    "\n",
    "# loads BAAI/bge-small-en\n",
    "# embed_model = HuggingFaceEmbedding()\n",
    "\n",
    "# loads BAAI/bge-small-en-v1.5\n",
    "embed_model = HuggingFaceEmbedding(model_name=\"BAAI/bge-m3\")\n",
    "Settings.embed_model = embed_model"
   ]
  },
  {
   "cell_type": "code",
   "execution_count": 22,
   "id": "3b877360-bcfc-45ea-a09d-9300373febd0",
   "metadata": {},
   "outputs": [
    {
     "name": "stderr",
     "output_type": "stream",
     "text": [
      "Ignoring wrong pointing object 6 0 (offset 0)\n",
      "Ignoring wrong pointing object 8 0 (offset 0)\n",
      "Ignoring wrong pointing object 10 0 (offset 0)\n",
      "Ignoring wrong pointing object 12 0 (offset 0)\n",
      "Ignoring wrong pointing object 14 0 (offset 0)\n",
      "Ignoring wrong pointing object 23 0 (offset 0)\n",
      "Ignoring wrong pointing object 25 0 (offset 0)\n",
      "Ignoring wrong pointing object 27 0 (offset 0)\n",
      "Ignoring wrong pointing object 29 0 (offset 0)\n",
      "Ignoring wrong pointing object 31 0 (offset 0)\n",
      "Ignoring wrong pointing object 45 0 (offset 0)\n",
      "Ignoring wrong pointing object 6 0 (offset 0)\n",
      "Ignoring wrong pointing object 8 0 (offset 0)\n",
      "Ignoring wrong pointing object 10 0 (offset 0)\n",
      "Ignoring wrong pointing object 12 0 (offset 0)\n",
      "Ignoring wrong pointing object 14 0 (offset 0)\n",
      "Ignoring wrong pointing object 23 0 (offset 0)\n",
      "Ignoring wrong pointing object 25 0 (offset 0)\n",
      "Ignoring wrong pointing object 27 0 (offset 0)\n",
      "Ignoring wrong pointing object 29 0 (offset 0)\n",
      "Ignoring wrong pointing object 31 0 (offset 0)\n",
      "Ignoring wrong pointing object 33 0 (offset 0)\n",
      "Ignoring wrong pointing object 35 0 (offset 0)\n",
      "Ignoring wrong pointing object 37 0 (offset 0)\n",
      "Ignoring wrong pointing object 39 0 (offset 0)\n",
      "Ignoring wrong pointing object 41 0 (offset 0)\n",
      "Ignoring wrong pointing object 43 0 (offset 0)\n",
      "Ignoring wrong pointing object 47 0 (offset 0)\n"
     ]
    }
   ],
   "source": [
    "from llama_index.core import VectorStoreIndex, SimpleDirectoryReader\n",
    "\n",
    "documents = SimpleDirectoryReader(\"documents\").load_data()\n",
    "index = VectorStoreIndex.from_documents(documents)"
   ]
  },
  {
   "cell_type": "code",
   "execution_count": 23,
   "id": "29c21b46-53db-4f59-a57f-77d557deb5bc",
   "metadata": {},
   "outputs": [
    {
     "name": "stdout",
     "output_type": "stream",
     "text": [
      "The red cow was helping Ferko because she was actually his deceased first queen mother who had transformed herself into a cow to nourish and protect him.\n"
     ]
    }
   ],
   "source": [
    "query_engine = index.as_query_engine()\n",
    "response = query_engine.query(\"Why was the red cow helping Ferko?\")\n",
    "print(response)"
   ]
  },
  {
   "cell_type": "markdown",
   "id": "35a3d6ba-c714-4d5f-8de4-884e75ce63e7",
   "metadata": {},
   "source": [
    "## Other things to research\n",
    "\n",
    "RAG goes very deep, and is an incredibly active field of research. You might want to look at [RAGatouille](https://github.com/bclavie/RAGatouille) and [ColBERT embeddings](https://github.com/stanford-futuredata/ColBERT) if you're interested in more recent/interesting items. Also **[reranking](https://docs.llamaindex.ai/en/stable/examples/node_postprocessor/CohereRerank.html)** to improve relevant results"
   ]
  },
  {
   "cell_type": "code",
   "execution_count": null,
   "id": "f592a349-d940-4dd5-87b3-ea8c78f2d6e1",
   "metadata": {},
   "outputs": [],
   "source": []
  }
 ],
 "metadata": {
  "kernelspec": {
   "display_name": "Python 3 (ipykernel)",
   "language": "python",
   "name": "python3"
  },
  "language_info": {
   "codemirror_mode": {
    "name": "ipython",
    "version": 3
   },
   "file_extension": ".py",
   "mimetype": "text/x-python",
   "name": "python",
   "nbconvert_exporter": "python",
   "pygments_lexer": "ipython3",
   "version": "3.10.13"
  }
 },
 "nbformat": 4,
 "nbformat_minor": 5
}
