{
 "cells": [
  {
   "cell_type": "markdown",
   "id": "c0628da0-38e2-473b-832f-4dd346da77f2",
   "metadata": {},
   "source": [
    "# Embeddings and document Q&A"
   ]
  },
  {
   "cell_type": "code",
   "execution_count": null,
   "id": "34df4dd4-af78-4570-97e8-16f28e0f747e",
   "metadata": {},
   "outputs": [],
   "source": [
    "%pip install --quiet -U llama-index-vector-stores-chroma llama-index sentence-transformers sentencepiece InstructorEmbedding pydantic llama-index-embeddings-huggingface llama-index-embeddings-instructor"
   ]
  },
  {
   "cell_type": "markdown",
   "id": "ea42abd2-fe20-4a04-bbf0-ce69c5e1caa1",
   "metadata": {},
   "source": [
    "# Embeddings\n",
    "\n",
    "Computers only know how to talk in numbers, so embeddings **convert text to numbers**. I've already written [a lot of words about embeddings](https://investigate.ai/text-analysis/word-embeddings/), and that will hopefully be helpful to understanding them.\n",
    "\n",
    "For example, we can take a look at seeing what \"cat\" turns into."
   ]
  },
  {
   "cell_type": "code",
   "execution_count": null,
   "id": "2b4d133d-ca2f-4f1c-8d55-afe4cd02708b",
   "metadata": {},
   "outputs": [],
   "source": [
    "from sentence_transformers import SentenceTransformer\n",
    "sentences = [\"cat\"]\n",
    "\n",
    "model = SentenceTransformer('sentence-transformers/all-MiniLM-L6-v2')\n",
    "embeddings = model.encode(sentences)\n",
    "print(embeddings[0][:25])"
   ]
  },
  {
   "cell_type": "markdown",
   "id": "9afa9246-6561-4daa-b69c-982a61acc0cf",
   "metadata": {},
   "source": [
    "Generating embeddings also works for **entire sentences** (or paragraphs, or books, or anything!)."
   ]
  },
  {
   "cell_type": "code",
   "execution_count": null,
   "id": "cb4db85c-5b1d-4afa-9367-554d22f56151",
   "metadata": {},
   "outputs": [],
   "source": [
    "from sentence_transformers import SentenceTransformer\n",
    "sentences = [\"This is an example sentence\"]\n",
    "\n",
    "model = SentenceTransformer('sentence-transformers/all-MiniLM-L6-v2')\n",
    "embeddings = model.encode(sentences)\n",
    "print(embeddings[0][:50])"
   ]
  },
  {
   "cell_type": "markdown",
   "id": "8a281909-e770-40f4-b2d4-8b1b89c46f72",
   "metadata": {},
   "source": [
    "## Document similarity\n",
    "\n",
    "Because everything is \"just numbers,\" we can use those numbers to compare sentences. We're going to use a dataset below because we'll be able to see how different embeddings get us to different results."
   ]
  },
  {
   "cell_type": "code",
   "execution_count": null,
   "id": "b6497da9-ee55-4999-9745-444eaf71e0e2",
   "metadata": {},
   "outputs": [],
   "source": [
    "import pandas as pd\n",
    "\n",
    "sentences = [\n",
    "    \"Molly ate a fish\",\n",
    "    \"Jen consumed a carp\",\n",
    "    \"I would like to sell you a house\",\n",
    "    \"Я пытаюсь купить дачу\",\n",
    "    \"J'aimerais vous louer un grand appartement\",\n",
    "    \"This is a wonderful investment opportunity\",\n",
    "    \"write some more sentences 1\",\n",
    "    \"write some more sentences 2\",\n",
    "    \"write some more sentences 3\",\n",
    "    \"write some more sentences 4\",\n",
    "]"
   ]
  },
  {
   "cell_type": "code",
   "execution_count": null,
   "id": "d966daf7-d363-4c9c-ad40-c2897571ee46",
   "metadata": {},
   "outputs": [],
   "source": [
    "model = SentenceTransformer('sentence-transformers/all-MiniLM-L6-v2')\n",
    "embeddings = model.encode(sentences)"
   ]
  },
  {
   "cell_type": "code",
   "execution_count": null,
   "id": "56cbe986-1a9c-41f1-8a89-d8df4ab77980",
   "metadata": {},
   "outputs": [],
   "source": [
    "from sklearn.metrics.pairwise import cosine_similarity\n",
    "\n",
    "# Compute similarities exactly the same as we did before!\n",
    "similarities = cosine_similarity(embeddings)\n",
    "\n",
    "# Turn into a dataframe\n",
    "pd.DataFrame(similarities,\n",
    "            index=sentences,\n",
    "            columns=sentences) \\\n",
    "            .style \\\n",
    "            .background_gradient(axis=None)"
   ]
  },
  {
   "cell_type": "code",
   "execution_count": null,
   "id": "2b65a61a-f129-49bc-a7a6-b6171a1ea6b2",
   "metadata": {},
   "outputs": [],
   "source": [
    "model = SentenceTransformer('sentence-transformers/distiluse-base-multilingual-cased-v2')\n",
    "embeddings = model.encode(sentences)"
   ]
  },
  {
   "cell_type": "code",
   "execution_count": null,
   "id": "bcb047ac-1799-4399-b110-e771c6af61d0",
   "metadata": {},
   "outputs": [],
   "source": [
    "from sklearn.metrics.pairwise import cosine_similarity\n",
    "\n",
    "# Compute similarities exactly the same as we did before!\n",
    "similarities = cosine_similarity(embeddings)\n",
    "\n",
    "# Turn into a dataframe\n",
    "pd.DataFrame(similarities,\n",
    "            index=sentences,\n",
    "            columns=sentences) \\\n",
    "            .style \\\n",
    "            .background_gradient(axis=None)"
   ]
  },
  {
   "cell_type": "markdown",
   "id": "01804a1b-ac5d-4c44-bdea-f2d174a1c659",
   "metadata": {},
   "source": [
    "Why would you care about all of this? **Searching through your documents!** Sometimes you don't know exactly the words you're looking for, you just want something that kind of captures a feeling.\n",
    "\n",
    "That's how John Keefe and Jeremy Merrill helped ICIJ navigate through over 300gb of multilingual data in [the Luanda Leaks](https://qz.com/1786896/ai-for-investigations-sorting-through-the-luanda-leaks). Jeremy is also releasing a tool today or tomorrow, you can sneak a peek at it [over here](https://github.com/jeremybmerrill/meaningfully), or check out [Semantra](https://github.com/freedmand/semantra) by Dylan Freedman.\n",
    "\n",
    "You can also use embeddings for [general similarity clustering](https://www.commons-project.com/dockets/FDA-2019-N-5959), too!"
   ]
  },
  {
   "cell_type": "markdown",
   "id": "154f6d9e-6212-46cc-a445-9f9709742d0f",
   "metadata": {},
   "source": [
    "# Retrieval-augmented generation/document-based Q&A\n",
    "\n",
    "These days everyone loves to search across documents. Let's see how that works with embeddings!"
   ]
  },
  {
   "cell_type": "code",
   "execution_count": null,
   "id": "13ff33d4-62e8-428e-bdf2-f53e8c55c0a4",
   "metadata": {},
   "outputs": [],
   "source": [
    "import os\n",
    "os.environ['OPENAI_API_KEY'] = 'XXXXXXXX'"
   ]
  },
  {
   "cell_type": "code",
   "execution_count": null,
   "id": "e1131414-38f0-41a9-9dd0-2c68a3fba55f",
   "metadata": {},
   "outputs": [],
   "source": [
    "from llama_index.core import VectorStoreIndex, SimpleDirectoryReader\n",
    "\n",
    "documents = SimpleDirectoryReader(\"documents\").load_data()\n",
    "index = VectorStoreIndex.from_documents(documents)"
   ]
  },
  {
   "cell_type": "code",
   "execution_count": null,
   "id": "fa6531db-360b-481f-9f24-211a147e5251",
   "metadata": {},
   "outputs": [],
   "source": [
    "query_engine = index.as_query_engine()\n",
    "response = query_engine.query(\"Who was the red cow?\")\n",
    "print(response)"
   ]
  },
  {
   "cell_type": "code",
   "execution_count": null,
   "id": "57220b20-4a09-442c-b0ea-2d3e8b290bb0",
   "metadata": {},
   "outputs": [],
   "source": [
    "query_engine = index.as_query_engine()\n",
    "response = query_engine.query(\"Why was the red cow helping Ferko?\")\n",
    "print(response)"
   ]
  },
  {
   "cell_type": "markdown",
   "id": "9378ed93-9457-45b3-b805-092148b323ee",
   "metadata": {},
   "source": [
    "What happens if we run it again?"
   ]
  },
  {
   "cell_type": "code",
   "execution_count": null,
   "id": "0adf691c-9fa7-4b5d-9444-73c048995a62",
   "metadata": {},
   "outputs": [],
   "source": [
    "query_engine = index.as_query_engine()\n",
    "response = query_engine.query(\"Why was the red cow helping Ferko?\")\n",
    "print(response)"
   ]
  },
  {
   "cell_type": "markdown",
   "id": "28d1c4c2-270b-4cf9-ba99-04c83ffca342",
   "metadata": {},
   "source": [
    "What if we want to provide more context? By default it only gives the top 2 most relevant documents."
   ]
  },
  {
   "cell_type": "code",
   "execution_count": null,
   "id": "23073004-37b5-4cab-b495-581435d3b4c1",
   "metadata": {},
   "outputs": [],
   "source": [
    "query_engine = index.as_query_engine(similarity_top_k=5)\n",
    "response = query_engine.query(\"Why was the red cow helping Ferko?\")\n",
    "print(response)"
   ]
  },
  {
   "cell_type": "code",
   "execution_count": null,
   "id": "79bee641-402f-4da0-841d-9b2947d5c0b7",
   "metadata": {},
   "outputs": [],
   "source": [
    "query_engine = index.as_query_engine(similarity_top_k=5)\n",
    "response = query_engine.query(\"As a landlord, can I discriminate against poor people?\")\n",
    "print(response)"
   ]
  },
  {
   "cell_type": "code",
   "execution_count": null,
   "id": "355ac871-bc2d-4ff0-b2da-18e9e2f28101",
   "metadata": {},
   "outputs": [],
   "source": [
    "query_engine = index.as_query_engine(similarity_top_k=5)\n",
    "response = query_engine.query(\"Can I take my employees tips? I run the restaurant, I deserve them.\")\n",
    "print(response)"
   ]
  },
  {
   "cell_type": "markdown",
   "id": "72e23e70-659d-4c3d-8a35-ad4e6681f64b",
   "metadata": {},
   "source": [
    "**Easy citations**"
   ]
  },
  {
   "cell_type": "code",
   "execution_count": null,
   "id": "1bd5ac4b-25de-46a7-9843-58343bb417ff",
   "metadata": {},
   "outputs": [],
   "source": [
    "query_engine = index.as_query_engine(similarity_top_k=5)\n",
    "response = query_engine.query(\"\"\"\n",
    "Can I take my employees tips? I run the restaurant, I deserve them. \n",
    "Cite filenames and page numbers where you retrieved information.\n",
    "\"\"\")\n",
    "print(response)"
   ]
  },
  {
   "cell_type": "markdown",
   "id": "5d856afd-2bba-42cb-9189-d7930bd7c6d3",
   "metadata": {},
   "source": [
    "**Sources**"
   ]
  },
  {
   "cell_type": "code",
   "execution_count": null,
   "id": "ae879754-9cc0-4712-85a4-06ca1c31067e",
   "metadata": {},
   "outputs": [],
   "source": [
    "for node in response.source_nodes:\n",
    "    print(\"-----\")\n",
    "    text_fmt = node.node.get_content().strip().replace(\"\\n\", \" \")[:1000]\n",
    "    print(f\"Text:\\t {text_fmt} ...\")\n",
    "    print(f\"Metadata:\\t {node.node.metadata}\")\n",
    "    print(f\"Score:\\t {node.score:.3f}\")\n"
   ]
  },
  {
   "cell_type": "markdown",
   "id": "7a9aa215-5853-405f-a4d3-7755815e566b",
   "metadata": {},
   "source": [
    "What happens if we run it again?"
   ]
  },
  {
   "cell_type": "markdown",
   "id": "50f9c6ba-3e58-47a1-8bef-1c1ef044aa24",
   "metadata": {},
   "source": [
    "There's also plenty of [other customizations we can make](https://docs.llamaindex.ai/en/stable/getting_started/customization.html)"
   ]
  },
  {
   "cell_type": "markdown",
   "id": "c921e167-4ccd-4bd5-a587-8f02c0214f88",
   "metadata": {},
   "source": [
    "## Local embedding\n",
    "\n",
    "These embeddings are currently coming from OpenAI, which makes them slow and expensive. They're pretty good, though! I can spill more words about them but the [general idea](https://openai.com/blog/new-embedding-models-and-api-updates) is:\n",
    "\n",
    "> Both of our new embedding models were trained with a technique Matryoshka Representation Learning that allows developers to trade-off performance and cost of using embeddings. Specifically, developers can shorten embeddings (i.e. remove some numbers from the end of the sequence) without the embedding losing its concept-representing properties by passing in the dimensions API parameter. For example, on the MTEB benchmark, a text-embedding-3-large embedding can be shortened to a size of 256 while still outperforming an unshortened text-embedding-ada-002 embedding with a size of 1536.\n",
    "\n",
    "The \"best\" embeddings (and tools for using them) are constantly changing, and [the major leaderboard](https://huggingface.co/spaces/mteb/leaderboard) is always being upset."
   ]
  },
  {
   "cell_type": "code",
   "execution_count": null,
   "id": "4313ade7-f016-4a40-83b5-00bea2ef01da",
   "metadata": {},
   "outputs": [],
   "source": [
    "from llama_index.embeddings.huggingface import HuggingFaceEmbedding\n",
    "\n",
    "# loads BAAI/bge-small-en\n",
    "# embed_model = HuggingFaceEmbedding()\n",
    "\n",
    "# loads BAAI/bge-small-en-v1.5\n",
    "embed_model = HuggingFaceEmbedding(model_name=\"BAAI/bge-small-en-v1.5\")"
   ]
  },
  {
   "cell_type": "code",
   "execution_count": null,
   "id": "4acd0519-a4b0-4482-8371-f47d86744832",
   "metadata": {},
   "outputs": [],
   "source": [
    "embeddings = embed_model.get_text_embedding(\"Hello World!\")\n",
    "print(embeddings[:5])"
   ]
  },
  {
   "cell_type": "code",
   "execution_count": null,
   "id": "0f9549a3-c694-41d7-b135-9fc2d411d827",
   "metadata": {},
   "outputs": [],
   "source": [
    "from llama_index.core import Settings\n",
    "from llama_index.embeddings.huggingface import HuggingFaceEmbedding\n",
    "\n",
    "# loads BAAI/bge-small-en\n",
    "# embed_model = HuggingFaceEmbedding()\n",
    "\n",
    "# loads BAAI/bge-small-en-v1.5\n",
    "embed_model = HuggingFaceEmbedding(model_name=\"BAAI/bge-m3\")\n",
    "Settings.embed_model = embed_model"
   ]
  },
  {
   "cell_type": "code",
   "execution_count": null,
   "id": "3b877360-bcfc-45ea-a09d-9300373febd0",
   "metadata": {},
   "outputs": [],
   "source": [
    "from llama_index.core import VectorStoreIndex, SimpleDirectoryReader\n",
    "\n",
    "documents = SimpleDirectoryReader(\"documents\").load_data()\n",
    "index = VectorStoreIndex.from_documents(documents)"
   ]
  },
  {
   "cell_type": "code",
   "execution_count": null,
   "id": "29c21b46-53db-4f59-a57f-77d557deb5bc",
   "metadata": {},
   "outputs": [],
   "source": [
    "query_engine = index.as_query_engine()\n",
    "response = query_engine.query(\"Why was the red cow helping Ferko?\")\n",
    "print(response)"
   ]
  },
  {
   "cell_type": "markdown",
   "id": "35a3d6ba-c714-4d5f-8de4-884e75ce63e7",
   "metadata": {},
   "source": [
    "## Other things to research\n",
    "\n",
    "RAG goes very deep, and is an incredibly active field of research. You might want to look at [RAGatouille](https://github.com/bclavie/RAGatouille) and [ColBERT embeddings](https://github.com/stanford-futuredata/ColBERT) if you're interested in more recent/interesting items. Also **[reranking](https://docs.llamaindex.ai/en/stable/examples/node_postprocessor/CohereRerank.html)** to improve relevant results"
   ]
  },
  {
   "cell_type": "code",
   "execution_count": null,
   "id": "f592a349-d940-4dd5-87b3-ea8c78f2d6e1",
   "metadata": {},
   "outputs": [],
   "source": []
  }
 ],
 "metadata": {
  "kernelspec": {
   "display_name": "Python 3 (ipykernel)",
   "language": "python",
   "name": "python3"
  },
  "language_info": {
   "codemirror_mode": {
    "name": "ipython",
    "version": 3
   },
   "file_extension": ".py",
   "mimetype": "text/x-python",
   "name": "python",
   "nbconvert_exporter": "python",
   "pygments_lexer": "ipython3",
   "version": "3.10.13"
  }
 },
 "nbformat": 4,
 "nbformat_minor": 5
}
